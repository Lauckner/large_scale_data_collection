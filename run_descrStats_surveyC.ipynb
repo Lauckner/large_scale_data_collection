{
 "metadata": {
  "name": ""
 },
 "nbformat": 3,
 "nbformat_minor": 0,
 "worksheets": [
  {
   "cells": [
    {
     "cell_type": "heading",
     "level": 1,
     "metadata": {},
     "source": [
      "Survey C"
     ]
    },
    {
     "cell_type": "markdown",
     "metadata": {},
     "source": [
      "specify most recent data file(csv from limesurvey) and the directory for output files, leave '' if no csv file wanted"
     ]
    },
    {
     "cell_type": "code",
     "collapsed": false,
     "input": [
      "f1_in = '/scr/liberia1/data/lsd/behavioral/surveyCactive_151013.csv'\n",
      "f2_in = '/scr/liberia1/data/lsd/behavioral/surveyCinactive_151013.csv'\n",
      "f3_in = '/scr/liberia1/data/lsd/behavioral/surveyCcorrected_151013.csv'\n",
      "out_dir = '/scr/liberia1/data/lsd/behavioral/XNAT'"
     ],
     "language": "python",
     "metadata": {},
     "outputs": [],
     "prompt_number": 1
    },
    {
     "cell_type": "code",
     "collapsed": false,
     "input": [
      "execfile('./descrStats_surveys.py')\n",
      "df1 = pd.read_csv(f1_in, sep = \",\", parse_dates =[1,5])\n",
      "df2 = pd.read_csv(f2_in, sep = \",\", parse_dates =[1,5])\n",
      "df3 = pd.read_csv(f3_in, sep = \",\", parse_dates =[1,5])\n",
      "df = pd.concat([df1, df2, df3])\n",
      "print 'N =', len(df)"
     ],
     "language": "python",
     "metadata": {},
     "outputs": [
      {
       "output_type": "stream",
       "stream": "stdout",
       "text": [
        "N = 211\n"
       ]
      }
     ],
     "prompt_number": 2
    },
    {
     "cell_type": "heading",
     "level": 2,
     "metadata": {},
     "source": [
      "LIMIT / NYQ"
     ]
    },
    {
     "cell_type": "code",
     "collapsed": false,
     "input": [
      "run_limit(df.copy(), out_dir) # or run_NYQ ?"
     ],
     "language": "python",
     "metadata": {},
     "outputs": []
    },
    {
     "cell_type": "heading",
     "level": 2,
     "metadata": {},
     "source": [
      "facebook questionnaire"
     ]
    },
    {
     "cell_type": "code",
     "collapsed": false,
     "input": [
      "run_facebook(df.copy(), out_dir)"
     ],
     "language": "python",
     "metadata": {},
     "outputs": []
    },
    {
     "cell_type": "heading",
     "level": 2,
     "metadata": {},
     "source": [
      "DS14"
     ]
    },
    {
     "cell_type": "code",
     "collapsed": false,
     "input": [
      "run_DS14(df.copy(), out_dir)"
     ],
     "language": "python",
     "metadata": {},
     "outputs": []
    }
   ],
   "metadata": {}
  }
 ]
}