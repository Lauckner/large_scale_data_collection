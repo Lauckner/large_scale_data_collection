{
 "metadata": {
  "name": ""
 },
 "nbformat": 3,
 "nbformat_minor": 0,
 "worksheets": [
  {
   "cells": [
    {
     "cell_type": "heading",
     "level": 1,
     "metadata": {},
     "source": [
      "Paper Surveys"
     ]
    },
    {
     "cell_type": "code",
     "collapsed": false,
     "input": [
      "NYQC_postscan = '/scr/liberia1/data/lsd/behavioral/Surveys/LIMIT -NYC-Q post Scan_151116.csv'\n",
      "out_dir = '/scr/liberia1/data/lsd/behavioral/XNAT'"
     ],
     "language": "python",
     "metadata": {},
     "outputs": [],
     "prompt_number": 1
    },
    {
     "cell_type": "code",
     "collapsed": false,
     "input": [
      "execfile('./descrStats_surveys.py')\n",
      "df = pd.read_csv(NYQC_postscan)\n",
      "print 'N =', len(df)"
     ],
     "language": "python",
     "metadata": {},
     "outputs": [
      {
       "output_type": "stream",
       "stream": "stdout",
       "text": [
        "N = 207\n"
       ]
      }
     ],
     "prompt_number": 2
    },
    {
     "cell_type": "heading",
     "level": 2,
     "metadata": {},
     "source": [
      "LIMIT - NYC-Q (post scan)"
     ]
    },
    {
     "cell_type": "code",
     "collapsed": false,
     "input": [
      "run_NYCQ(df, out_dir) # no summary scores atm, no histograms"
     ],
     "language": "python",
     "metadata": {},
     "outputs": [],
     "prompt_number": 3
    }
   ],
   "metadata": {}
  }
 ]
}