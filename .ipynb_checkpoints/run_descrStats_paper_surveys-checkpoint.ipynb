{
 "metadata": {
  "name": ""
 },
 "nbformat": 3,
 "nbformat_minor": 0,
 "worksheets": [
  {
   "cells": [
    {
     "cell_type": "heading",
     "level": 1,
     "metadata": {},
     "source": [
      "Paper Surveys"
     ]
    },
    {
     "cell_type": "code",
     "collapsed": false,
     "input": [
      "NYQC_postscan = '/scr/liberia1/data/lsd/behavioral/Surveys/LIMIT -NYC-Q post Scan_151116.csv'\n",
      "NYCQ_posttasks = '/scr/liberia1/data/lsd/behavioral/Surveys/NYCQ-short_slider post Win - NYCQ.csv'\n",
      "out_dir = '/scr/liberia1/data/lsd/behavioral/XNAT'"
     ],
     "language": "python",
     "metadata": {},
     "outputs": [],
     "prompt_number": 1
    },
    {
     "cell_type": "code",
     "collapsed": false,
     "input": [
      "execfile('./descrStats_surveys.py')\n",
      "df_postscan = pd.read_csv(NYQC_postscan)\n",
      "df_posttasks = pd.read_csv(NYCQ_posttasks)\n",
      "print 'post scan N =', len(df_postscan)\n",
      "print 'post tasks N =', len(df_posttasks)"
     ],
     "language": "python",
     "metadata": {},
     "outputs": [
      {
       "output_type": "stream",
       "stream": "stdout",
       "text": [
        "post scan N = 207\n",
        "post tasks N = 207\n"
       ]
      }
     ],
     "prompt_number": 2
    },
    {
     "cell_type": "heading",
     "level": 2,
     "metadata": {},
     "source": [
      "LIMIT - NYC-Q (post scan)"
     ]
    },
    {
     "cell_type": "code",
     "collapsed": false,
     "input": [
      "run_NYCQ_postscan(df_postscan, out_dir) # no summary scores atm, no histograms"
     ],
     "language": "python",
     "metadata": {},
     "outputs": [],
     "prompt_number": 3
    },
    {
     "cell_type": "heading",
     "level": 2,
     "metadata": {},
     "source": [
      "short NYCQ (post tasks)"
     ]
    },
    {
     "cell_type": "code",
     "collapsed": false,
     "input": [
      "run_NYCQ_posttasks(df_posttasks, out_dir) # no summary scores atm, no histograms"
     ],
     "language": "python",
     "metadata": {},
     "outputs": [
      {
       "output_type": "stream",
       "stream": "stderr",
       "text": [
        "/afs/cbs.mpg.de/software/pythonlib/pandas/0.16.1/ubuntu-precise-amd64/lib/python2.7/site-packages/pandas-0.16.1-py2.7-linux-x86_64.egg/pandas/core/frame.py:2518: SettingWithCopyWarning: \n",
        "A value is trying to be set on a copy of a slice from a DataFrame\n",
        "\n",
        "See the the caveats in the documentation: http://pandas.pydata.org/pandas-docs/stable/indexing.html#indexing-view-versus-copy\n",
        "  **kwargs)\n"
       ]
      }
     ],
     "prompt_number": 4
    }
   ],
   "metadata": {}
  }
 ]
}